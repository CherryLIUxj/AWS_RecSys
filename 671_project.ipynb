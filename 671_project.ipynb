{
 "cells": [
  {
   "cell_type": "code",
   "execution_count": 1,
   "metadata": {},
   "outputs": [],
   "source": [
    "import pandas as pd\n",
    "import numpy as np\n",
    "import matplotlib.pyplot as plt\n",
    "\n",
    "import json\n",
    "import gzip\n",
    "import datetime, time\n",
    "\n",
    "import pickle\n"
   ]
  },
  {
   "cell_type": "markdown",
   "metadata": {},
   "source": [
    "# Read and Inspect Data"
   ]
  },
  {
   "cell_type": "code",
   "execution_count": 2,
   "metadata": {},
   "outputs": [],
   "source": [
    "def parse(path):\n",
    "  g = gzip.open(path, 'rb')\n",
    "  for l in g:\n",
    "    yield json.loads(l)\n",
    "\n",
    "def getDF(path):\n",
    "  i = 0\n",
    "  df = {}\n",
    "  for d in parse(path):\n",
    "    df[i] = d\n",
    "    i += 1\n",
    "  return pd.DataFrame.from_dict(df, orient='index')\n",
    "\n",
    "interaction = getDF('data/Amazon_Fashion.jsonl.gz')\n",
    "meta = getDF('data/meta_Amazon_Fashion.jsonl.gz')"
   ]
  },
  {
   "cell_type": "code",
   "execution_count": 47,
   "metadata": {},
   "outputs": [
    {
     "data": {
      "text/plain": [
       "((2500939, 10), (826108, 14))"
      ]
     },
     "execution_count": 47,
     "metadata": {},
     "output_type": "execute_result"
    }
   ],
   "source": [
    "interaction.shape, meta.shape"
   ]
  },
  {
   "cell_type": "code",
   "execution_count": 4,
   "metadata": {},
   "outputs": [
    {
     "data": {
      "text/html": [
       "<div>\n",
       "<style scoped>\n",
       "    .dataframe tbody tr th:only-of-type {\n",
       "        vertical-align: middle;\n",
       "    }\n",
       "\n",
       "    .dataframe tbody tr th {\n",
       "        vertical-align: top;\n",
       "    }\n",
       "\n",
       "    .dataframe thead th {\n",
       "        text-align: right;\n",
       "    }\n",
       "</style>\n",
       "<table border=\"1\" class=\"dataframe\">\n",
       "  <thead>\n",
       "    <tr style=\"text-align: right;\">\n",
       "      <th></th>\n",
       "      <th>rating</th>\n",
       "      <th>title</th>\n",
       "      <th>text</th>\n",
       "      <th>images</th>\n",
       "      <th>asin</th>\n",
       "      <th>parent_asin</th>\n",
       "      <th>user_id</th>\n",
       "      <th>timestamp</th>\n",
       "      <th>helpful_vote</th>\n",
       "      <th>verified_purchase</th>\n",
       "    </tr>\n",
       "  </thead>\n",
       "  <tbody>\n",
       "    <tr>\n",
       "      <th>0</th>\n",
       "      <td>5.0</td>\n",
       "      <td>Pretty locket</td>\n",
       "      <td>I think this locket is really pretty. The insi...</td>\n",
       "      <td>[]</td>\n",
       "      <td>B00LOPVX74</td>\n",
       "      <td>B00LOPVX74</td>\n",
       "      <td>AGBFYI2DDIKXC5Y4FARTYDTQBMFQ</td>\n",
       "      <td>1578528394489</td>\n",
       "      <td>3</td>\n",
       "      <td>True</td>\n",
       "    </tr>\n",
       "    <tr>\n",
       "      <th>1</th>\n",
       "      <td>5.0</td>\n",
       "      <td>A</td>\n",
       "      <td>Great</td>\n",
       "      <td>[]</td>\n",
       "      <td>B07B4JXK8D</td>\n",
       "      <td>B07B4JXK8D</td>\n",
       "      <td>AFQLNQNQYFWQZPJQZS6V3NZU4QBQ</td>\n",
       "      <td>1608426246701</td>\n",
       "      <td>0</td>\n",
       "      <td>True</td>\n",
       "    </tr>\n",
       "    <tr>\n",
       "      <th>2</th>\n",
       "      <td>2.0</td>\n",
       "      <td>Two Stars</td>\n",
       "      <td>One of the stones fell out within the first 2 ...</td>\n",
       "      <td>[]</td>\n",
       "      <td>B007ZSEQ4Q</td>\n",
       "      <td>B007ZSEQ4Q</td>\n",
       "      <td>AHITBJSS7KYUBVZPX7M2WJCOIVKQ</td>\n",
       "      <td>1432344828000</td>\n",
       "      <td>3</td>\n",
       "      <td>True</td>\n",
       "    </tr>\n",
       "    <tr>\n",
       "      <th>3</th>\n",
       "      <td>1.0</td>\n",
       "      <td>Won’t buy again</td>\n",
       "      <td>Crappy socks. Money wasted. Bought to wear wit...</td>\n",
       "      <td>[]</td>\n",
       "      <td>B07F2BTFS9</td>\n",
       "      <td>B07F2BTFS9</td>\n",
       "      <td>AFVNEEPDEIH5SPUN5BWC6NKL3WNQ</td>\n",
       "      <td>1546289847095</td>\n",
       "      <td>2</td>\n",
       "      <td>True</td>\n",
       "    </tr>\n",
       "    <tr>\n",
       "      <th>4</th>\n",
       "      <td>5.0</td>\n",
       "      <td>I LOVE these glasses</td>\n",
       "      <td>I LOVE these glasses!  They fit perfectly over...</td>\n",
       "      <td>[]</td>\n",
       "      <td>B00PKRFU4O</td>\n",
       "      <td>B00XESJTDE</td>\n",
       "      <td>AHSPLDNW5OOUK2PLH7GXLACFBZNQ</td>\n",
       "      <td>1439476166000</td>\n",
       "      <td>0</td>\n",
       "      <td>True</td>\n",
       "    </tr>\n",
       "  </tbody>\n",
       "</table>\n",
       "</div>"
      ],
      "text/plain": [
       "   rating                 title  \\\n",
       "0     5.0         Pretty locket   \n",
       "1     5.0                     A   \n",
       "2     2.0             Two Stars   \n",
       "3     1.0       Won’t buy again   \n",
       "4     5.0  I LOVE these glasses   \n",
       "\n",
       "                                                text images        asin  \\\n",
       "0  I think this locket is really pretty. The insi...     []  B00LOPVX74   \n",
       "1                                              Great     []  B07B4JXK8D   \n",
       "2  One of the stones fell out within the first 2 ...     []  B007ZSEQ4Q   \n",
       "3  Crappy socks. Money wasted. Bought to wear wit...     []  B07F2BTFS9   \n",
       "4  I LOVE these glasses!  They fit perfectly over...     []  B00PKRFU4O   \n",
       "\n",
       "  parent_asin                       user_id      timestamp  helpful_vote  \\\n",
       "0  B00LOPVX74  AGBFYI2DDIKXC5Y4FARTYDTQBMFQ  1578528394489             3   \n",
       "1  B07B4JXK8D  AFQLNQNQYFWQZPJQZS6V3NZU4QBQ  1608426246701             0   \n",
       "2  B007ZSEQ4Q  AHITBJSS7KYUBVZPX7M2WJCOIVKQ  1432344828000             3   \n",
       "3  B07F2BTFS9  AFVNEEPDEIH5SPUN5BWC6NKL3WNQ  1546289847095             2   \n",
       "4  B00XESJTDE  AHSPLDNW5OOUK2PLH7GXLACFBZNQ  1439476166000             0   \n",
       "\n",
       "   verified_purchase  \n",
       "0               True  \n",
       "1               True  \n",
       "2               True  \n",
       "3               True  \n",
       "4               True  "
      ]
     },
     "execution_count": 4,
     "metadata": {},
     "output_type": "execute_result"
    }
   ],
   "source": [
    "interaction.head()"
   ]
  },
  {
   "cell_type": "code",
   "execution_count": 5,
   "metadata": {},
   "outputs": [
    {
     "data": {
      "text/plain": [
       "rating\n",
       "5.0    1426268\n",
       "4.0     352327\n",
       "1.0     303411\n",
       "3.0     245471\n",
       "2.0     173462\n",
       "Name: count, dtype: int64"
      ]
     },
     "execution_count": 5,
     "metadata": {},
     "output_type": "execute_result"
    }
   ],
   "source": [
    "interaction.rating.value_counts()"
   ]
  },
  {
   "cell_type": "code",
   "execution_count": 6,
   "metadata": {},
   "outputs": [
    {
     "data": {
      "text/plain": [
       "Index(['rating', 'title', 'text', 'images', 'asin', 'parent_asin', 'user_id',\n",
       "       'timestamp', 'helpful_vote', 'verified_purchase'],\n",
       "      dtype='object')"
      ]
     },
     "execution_count": 6,
     "metadata": {},
     "output_type": "execute_result"
    }
   ],
   "source": [
    "interaction.columns"
   ]
  },
  {
   "cell_type": "code",
   "execution_count": 7,
   "metadata": {},
   "outputs": [
    {
     "data": {
      "text/plain": [
       "rating               0\n",
       "title                0\n",
       "text                 0\n",
       "images               0\n",
       "asin                 0\n",
       "parent_asin          0\n",
       "user_id              0\n",
       "timestamp            0\n",
       "helpful_vote         0\n",
       "verified_purchase    0\n",
       "dtype: int64"
      ]
     },
     "execution_count": 7,
     "metadata": {},
     "output_type": "execute_result"
    }
   ],
   "source": [
    "interaction.isna().sum()"
   ]
  },
  {
   "cell_type": "code",
   "execution_count": 122,
   "metadata": {},
   "outputs": [
    {
     "data": {
      "text/plain": [
       "verified_purchase\n",
       "True     2337702\n",
       "False     163237\n",
       "Name: count, dtype: int64"
      ]
     },
     "execution_count": 122,
     "metadata": {},
     "output_type": "execute_result"
    }
   ],
   "source": [
    "interaction.verified_purchase.value_counts()"
   ]
  },
  {
   "cell_type": "code",
   "execution_count": 10,
   "metadata": {},
   "outputs": [
    {
     "data": {
      "text/plain": [
       "(Timestamp('2002-05-07 01:51:28'), Timestamp('2023-09-11 03:24:38.515000'))"
      ]
     },
     "execution_count": 10,
     "metadata": {},
     "output_type": "execute_result"
    }
   ],
   "source": [
    "pd.to_datetime(interaction.timestamp.min(), unit='ms'), pd.to_datetime(interaction.timestamp.max(), unit='ms')"
   ]
  },
  {
   "cell_type": "code",
   "execution_count": null,
   "metadata": {},
   "outputs": [
    {
     "data": {
      "text/html": [
       "<div>\n",
       "<style scoped>\n",
       "    .dataframe tbody tr th:only-of-type {\n",
       "        vertical-align: middle;\n",
       "    }\n",
       "\n",
       "    .dataframe tbody tr th {\n",
       "        vertical-align: top;\n",
       "    }\n",
       "\n",
       "    .dataframe thead th {\n",
       "        text-align: right;\n",
       "    }\n",
       "</style>\n",
       "<table border=\"1\" class=\"dataframe\">\n",
       "  <thead>\n",
       "    <tr style=\"text-align: right;\">\n",
       "      <th></th>\n",
       "      <th>user_id</th>\n",
       "      <th>count_asin</th>\n",
       "    </tr>\n",
       "  </thead>\n",
       "  <tbody>\n",
       "    <tr>\n",
       "      <th>286</th>\n",
       "      <td>AE22M44KAE72RFU6DWM5Y3YN6SEA</td>\n",
       "      <td>9</td>\n",
       "    </tr>\n",
       "    <tr>\n",
       "      <th>611</th>\n",
       "      <td>AE23BYWB52METWQVHSPN3MKN7AJA</td>\n",
       "      <td>8</td>\n",
       "    </tr>\n",
       "    <tr>\n",
       "      <th>653</th>\n",
       "      <td>AE23ERACMJTGJJVEKZHU5VU6YZHA</td>\n",
       "      <td>11</td>\n",
       "    </tr>\n",
       "    <tr>\n",
       "      <th>963</th>\n",
       "      <td>AE23ZBUF2YVBQPH2NN6F5XSA3QYQ</td>\n",
       "      <td>7</td>\n",
       "    </tr>\n",
       "    <tr>\n",
       "      <th>1406</th>\n",
       "      <td>AE24VPMWEEQD62YPOG53BW7JCGFA</td>\n",
       "      <td>9</td>\n",
       "    </tr>\n",
       "    <tr>\n",
       "      <th>...</th>\n",
       "      <td>...</td>\n",
       "      <td>...</td>\n",
       "    </tr>\n",
       "    <tr>\n",
       "      <th>2034984</th>\n",
       "      <td>AHZZ2OXOLI63BPXIVEMTWFS77S7A</td>\n",
       "      <td>5</td>\n",
       "    </tr>\n",
       "    <tr>\n",
       "      <th>2035008</th>\n",
       "      <td>AHZZ476HPE5T27CPN62OV6RAM6KQ</td>\n",
       "      <td>5</td>\n",
       "    </tr>\n",
       "    <tr>\n",
       "      <th>2035048</th>\n",
       "      <td>AHZZ6SGWPYHMV7EKQDBVUTHHFZUA</td>\n",
       "      <td>11</td>\n",
       "    </tr>\n",
       "    <tr>\n",
       "      <th>2035153</th>\n",
       "      <td>AHZZFHROQ52EDDBX4FOQIEPSK5ZQ</td>\n",
       "      <td>5</td>\n",
       "    </tr>\n",
       "    <tr>\n",
       "      <th>2035201</th>\n",
       "      <td>AHZZIENTC5NQS32NSKEI7FWPDLWQ</td>\n",
       "      <td>9</td>\n",
       "    </tr>\n",
       "  </tbody>\n",
       "</table>\n",
       "<p>14774 rows × 2 columns</p>\n",
       "</div>"
      ],
      "text/plain": [
       "                              user_id  count_asin\n",
       "286      AE22M44KAE72RFU6DWM5Y3YN6SEA           9\n",
       "611      AE23BYWB52METWQVHSPN3MKN7AJA           8\n",
       "653      AE23ERACMJTGJJVEKZHU5VU6YZHA          11\n",
       "963      AE23ZBUF2YVBQPH2NN6F5XSA3QYQ           7\n",
       "1406     AE24VPMWEEQD62YPOG53BW7JCGFA           9\n",
       "...                               ...         ...\n",
       "2034984  AHZZ2OXOLI63BPXIVEMTWFS77S7A           5\n",
       "2035008  AHZZ476HPE5T27CPN62OV6RAM6KQ           5\n",
       "2035048  AHZZ6SGWPYHMV7EKQDBVUTHHFZUA          11\n",
       "2035153  AHZZFHROQ52EDDBX4FOQIEPSK5ZQ           5\n",
       "2035201  AHZZIENTC5NQS32NSKEI7FWPDLWQ           9\n",
       "\n",
       "[14774 rows x 2 columns]"
      ]
     },
     "execution_count": 128,
     "metadata": {},
     "output_type": "execute_result"
    }
   ],
   "source": [
    "count_user = interaction.groupby('user_id').agg({'asin': 'nunique'}).reset_index().rename(columns={'asin': 'count_asin'})\n",
    "\n",
    "count_user[count_user.count_asin>=5]"
   ]
  },
  {
   "cell_type": "code",
   "execution_count": 130,
   "metadata": {},
   "outputs": [
    {
     "data": {
      "text/plain": [
       "(14774, 2)"
      ]
     },
     "execution_count": 130,
     "metadata": {},
     "output_type": "execute_result"
    }
   ],
   "source": [
    "count_user[count_user.count_asin>=5].shape"
   ]
  },
  {
   "cell_type": "code",
   "execution_count": 131,
   "metadata": {},
   "outputs": [
    {
     "data": {
      "text/html": [
       "<div>\n",
       "<style scoped>\n",
       "    .dataframe tbody tr th:only-of-type {\n",
       "        vertical-align: middle;\n",
       "    }\n",
       "\n",
       "    .dataframe tbody tr th {\n",
       "        vertical-align: top;\n",
       "    }\n",
       "\n",
       "    .dataframe thead th {\n",
       "        text-align: right;\n",
       "    }\n",
       "</style>\n",
       "<table border=\"1\" class=\"dataframe\">\n",
       "  <thead>\n",
       "    <tr style=\"text-align: right;\">\n",
       "      <th></th>\n",
       "      <th>asin</th>\n",
       "      <th>count_user</th>\n",
       "    </tr>\n",
       "  </thead>\n",
       "  <tbody>\n",
       "    <tr>\n",
       "      <th>14</th>\n",
       "      <td>0545298156</td>\n",
       "      <td>6</td>\n",
       "    </tr>\n",
       "    <tr>\n",
       "      <th>15</th>\n",
       "      <td>0599521503</td>\n",
       "      <td>16</td>\n",
       "    </tr>\n",
       "    <tr>\n",
       "      <th>16</th>\n",
       "      <td>0610318861</td>\n",
       "      <td>47</td>\n",
       "    </tr>\n",
       "    <tr>\n",
       "      <th>18</th>\n",
       "      <td>0615991335</td>\n",
       "      <td>12</td>\n",
       "    </tr>\n",
       "    <tr>\n",
       "      <th>19</th>\n",
       "      <td>0629150591</td>\n",
       "      <td>103</td>\n",
       "    </tr>\n",
       "    <tr>\n",
       "      <th>...</th>\n",
       "      <td>...</td>\n",
       "      <td>...</td>\n",
       "    </tr>\n",
       "    <tr>\n",
       "      <th>873893</th>\n",
       "      <td>B0BX5PL8C5</td>\n",
       "      <td>13</td>\n",
       "    </tr>\n",
       "    <tr>\n",
       "      <th>873925</th>\n",
       "      <td>B0BXDCK1JD</td>\n",
       "      <td>5</td>\n",
       "    </tr>\n",
       "    <tr>\n",
       "      <th>873930</th>\n",
       "      <td>B0BXGZFLJ6</td>\n",
       "      <td>7</td>\n",
       "    </tr>\n",
       "    <tr>\n",
       "      <th>873944</th>\n",
       "      <td>B0BXNWBR6S</td>\n",
       "      <td>5</td>\n",
       "    </tr>\n",
       "    <tr>\n",
       "      <th>874112</th>\n",
       "      <td>B0BZKY1Q64</td>\n",
       "      <td>5</td>\n",
       "    </tr>\n",
       "  </tbody>\n",
       "</table>\n",
       "<p>98999 rows × 2 columns</p>\n",
       "</div>"
      ],
      "text/plain": [
       "              asin  count_user\n",
       "14      0545298156           6\n",
       "15      0599521503          16\n",
       "16      0610318861          47\n",
       "18      0615991335          12\n",
       "19      0629150591         103\n",
       "...            ...         ...\n",
       "873893  B0BX5PL8C5          13\n",
       "873925  B0BXDCK1JD           5\n",
       "873930  B0BXGZFLJ6           7\n",
       "873944  B0BXNWBR6S           5\n",
       "874112  B0BZKY1Q64           5\n",
       "\n",
       "[98999 rows x 2 columns]"
      ]
     },
     "execution_count": 131,
     "metadata": {},
     "output_type": "execute_result"
    }
   ],
   "source": [
    "count_item = interaction.groupby('asin').agg({'user_id': 'nunique'}).reset_index().rename(columns={'user_id': 'count_user'})\n",
    "\n",
    "count_item[count_item.count_user >= 5]"
   ]
  },
  {
   "cell_type": "code",
   "execution_count": 132,
   "metadata": {},
   "outputs": [
    {
     "data": {
      "text/plain": [
       "(98999, 2)"
      ]
     },
     "execution_count": 132,
     "metadata": {},
     "output_type": "execute_result"
    }
   ],
   "source": [
    "count_item[count_item.count_user >= 5].shape"
   ]
  },
  {
   "cell_type": "code",
   "execution_count": null,
   "metadata": {},
   "outputs": [],
   "source": []
  },
  {
   "cell_type": "code",
   "execution_count": 14,
   "metadata": {},
   "outputs": [
    {
     "data": {
      "text/html": [
       "<div>\n",
       "<style scoped>\n",
       "    .dataframe tbody tr th:only-of-type {\n",
       "        vertical-align: middle;\n",
       "    }\n",
       "\n",
       "    .dataframe tbody tr th {\n",
       "        vertical-align: top;\n",
       "    }\n",
       "\n",
       "    .dataframe thead th {\n",
       "        text-align: right;\n",
       "    }\n",
       "</style>\n",
       "<table border=\"1\" class=\"dataframe\">\n",
       "  <thead>\n",
       "    <tr style=\"text-align: right;\">\n",
       "      <th></th>\n",
       "      <th>main_category</th>\n",
       "      <th>title</th>\n",
       "      <th>average_rating</th>\n",
       "      <th>rating_number</th>\n",
       "      <th>features</th>\n",
       "      <th>description</th>\n",
       "      <th>price</th>\n",
       "      <th>images</th>\n",
       "      <th>videos</th>\n",
       "      <th>store</th>\n",
       "      <th>categories</th>\n",
       "      <th>details</th>\n",
       "      <th>parent_asin</th>\n",
       "      <th>bought_together</th>\n",
       "    </tr>\n",
       "  </thead>\n",
       "  <tbody>\n",
       "    <tr>\n",
       "      <th>0</th>\n",
       "      <td>AMAZON FASHION</td>\n",
       "      <td>YUEDGE 5 Pairs Men's Moisture Control Cushione...</td>\n",
       "      <td>4.6</td>\n",
       "      <td>16</td>\n",
       "      <td>[]</td>\n",
       "      <td>[]</td>\n",
       "      <td>NaN</td>\n",
       "      <td>[{'thumb': 'https://m.media-amazon.com/images/...</td>\n",
       "      <td>[]</td>\n",
       "      <td>GiveGift</td>\n",
       "      <td>[]</td>\n",
       "      <td>{'Package Dimensions': '10.31 x 8.5 x 1.73 inc...</td>\n",
       "      <td>B08BHN9PK5</td>\n",
       "      <td>None</td>\n",
       "    </tr>\n",
       "    <tr>\n",
       "      <th>1</th>\n",
       "      <td>AMAZON FASHION</td>\n",
       "      <td>DouBCQ Women's Palazzo Lounge Wide Leg Casual ...</td>\n",
       "      <td>4.1</td>\n",
       "      <td>7</td>\n",
       "      <td>[Drawstring closure, Machine Wash]</td>\n",
       "      <td>[]</td>\n",
       "      <td>NaN</td>\n",
       "      <td>[{'thumb': 'https://m.media-amazon.com/images/...</td>\n",
       "      <td>[]</td>\n",
       "      <td>DouBCQ</td>\n",
       "      <td>[]</td>\n",
       "      <td>{'Package Dimensions': '15 x 10.2 x 0.4 inches...</td>\n",
       "      <td>B08R39MRDW</td>\n",
       "      <td>None</td>\n",
       "    </tr>\n",
       "  </tbody>\n",
       "</table>\n",
       "</div>"
      ],
      "text/plain": [
       "    main_category                                              title  \\\n",
       "0  AMAZON FASHION  YUEDGE 5 Pairs Men's Moisture Control Cushione...   \n",
       "1  AMAZON FASHION  DouBCQ Women's Palazzo Lounge Wide Leg Casual ...   \n",
       "\n",
       "   average_rating  rating_number                            features  \\\n",
       "0             4.6             16                                  []   \n",
       "1             4.1              7  [Drawstring closure, Machine Wash]   \n",
       "\n",
       "  description  price                                             images  \\\n",
       "0          []    NaN  [{'thumb': 'https://m.media-amazon.com/images/...   \n",
       "1          []    NaN  [{'thumb': 'https://m.media-amazon.com/images/...   \n",
       "\n",
       "  videos     store categories  \\\n",
       "0     []  GiveGift         []   \n",
       "1     []    DouBCQ         []   \n",
       "\n",
       "                                             details parent_asin  \\\n",
       "0  {'Package Dimensions': '10.31 x 8.5 x 1.73 inc...  B08BHN9PK5   \n",
       "1  {'Package Dimensions': '15 x 10.2 x 0.4 inches...  B08R39MRDW   \n",
       "\n",
       "  bought_together  \n",
       "0            None  \n",
       "1            None  "
      ]
     },
     "execution_count": 14,
     "metadata": {},
     "output_type": "execute_result"
    }
   ],
   "source": [
    "meta.head(2)"
   ]
  },
  {
   "cell_type": "code",
   "execution_count": 15,
   "metadata": {},
   "outputs": [
    {
     "data": {
      "text/plain": [
       "main_category           0\n",
       "title                   0\n",
       "average_rating          0\n",
       "rating_number           0\n",
       "features                0\n",
       "description             0\n",
       "price              775859\n",
       "images                  0\n",
       "videos                  0\n",
       "store               26838\n",
       "categories              0\n",
       "details                 0\n",
       "parent_asin             0\n",
       "bought_together    826108\n",
       "dtype: int64"
      ]
     },
     "execution_count": 15,
     "metadata": {},
     "output_type": "execute_result"
    }
   ],
   "source": [
    "meta.isna().sum()"
   ]
  },
  {
   "cell_type": "code",
   "execution_count": 16,
   "metadata": {},
   "outputs": [
    {
     "data": {
      "text/plain": [
       "(826108, 14)"
      ]
     },
     "execution_count": 16,
     "metadata": {},
     "output_type": "execute_result"
    }
   ],
   "source": [
    "meta.shape"
   ]
  },
  {
   "cell_type": "markdown",
   "metadata": {},
   "source": [
    "# Data Processing"
   ]
  },
  {
   "cell_type": "markdown",
   "metadata": {},
   "source": [
    "## Filter interaction data\n",
    "* Keep only verified purchases  \n",
    "* Keep only records whose asin is the same as parent asin and is also in product metadata  \n",
    "* Keep only userful columns: user id, item id, time stamp, rating\n",
    "* Keep records whose user id has **reviewed at least 5 unique items** in the dataset (thus we can evaluate our model)   \n",
    "\n",
    "Note: the order of step 2 and step 4 should not be reversed!!"
   ]
  },
  {
   "cell_type": "code",
   "execution_count": 197,
   "metadata": {},
   "outputs": [
    {
     "data": {
      "text/html": [
       "<div>\n",
       "<style scoped>\n",
       "    .dataframe tbody tr th:only-of-type {\n",
       "        vertical-align: middle;\n",
       "    }\n",
       "\n",
       "    .dataframe tbody tr th {\n",
       "        vertical-align: top;\n",
       "    }\n",
       "\n",
       "    .dataframe thead th {\n",
       "        text-align: right;\n",
       "    }\n",
       "</style>\n",
       "<table border=\"1\" class=\"dataframe\">\n",
       "  <thead>\n",
       "    <tr style=\"text-align: right;\">\n",
       "      <th></th>\n",
       "      <th>rating</th>\n",
       "      <th>title</th>\n",
       "      <th>text</th>\n",
       "      <th>images</th>\n",
       "      <th>asin</th>\n",
       "      <th>parent_asin</th>\n",
       "      <th>user_id</th>\n",
       "      <th>timestamp</th>\n",
       "      <th>helpful_vote</th>\n",
       "      <th>verified_purchase</th>\n",
       "    </tr>\n",
       "  </thead>\n",
       "  <tbody>\n",
       "    <tr>\n",
       "      <th>0</th>\n",
       "      <td>5.0</td>\n",
       "      <td>Pretty locket</td>\n",
       "      <td>I think this locket is really pretty. The insi...</td>\n",
       "      <td>[]</td>\n",
       "      <td>B00LOPVX74</td>\n",
       "      <td>B00LOPVX74</td>\n",
       "      <td>AGBFYI2DDIKXC5Y4FARTYDTQBMFQ</td>\n",
       "      <td>1578528394489</td>\n",
       "      <td>3</td>\n",
       "      <td>True</td>\n",
       "    </tr>\n",
       "  </tbody>\n",
       "</table>\n",
       "</div>"
      ],
      "text/plain": [
       "   rating          title                                               text  \\\n",
       "0     5.0  Pretty locket  I think this locket is really pretty. The insi...   \n",
       "\n",
       "  images        asin parent_asin                       user_id      timestamp  \\\n",
       "0     []  B00LOPVX74  B00LOPVX74  AGBFYI2DDIKXC5Y4FARTYDTQBMFQ  1578528394489   \n",
       "\n",
       "   helpful_vote  verified_purchase  \n",
       "0             3               True  "
      ]
     },
     "execution_count": 197,
     "metadata": {},
     "output_type": "execute_result"
    }
   ],
   "source": [
    "interaction.head(1)"
   ]
  },
  {
   "cell_type": "code",
   "execution_count": null,
   "metadata": {},
   "outputs": [
    {
     "data": {
      "text/plain": [
       "(2045374, 10)"
      ]
     },
     "execution_count": 198,
     "metadata": {},
     "output_type": "execute_result"
    }
   ],
   "source": [
    "ratings = interaction[(interaction.asin.isin(meta.parent_asin)) & (interaction.verified_purchase == True)]\n",
    "\n",
    "## note: interaction.asin.isin(meta.parent_asin) ensures the asin is the same as parent asin and is also in product metadata\n",
    "\n",
    "ratings.shape"
   ]
  },
  {
   "cell_type": "code",
   "execution_count": 199,
   "metadata": {},
   "outputs": [
    {
     "data": {
      "text/plain": [
       "(9566, 2)"
      ]
     },
     "execution_count": 199,
     "metadata": {},
     "output_type": "execute_result"
    }
   ],
   "source": [
    "count_user = ratings.groupby('user_id').agg({'asin': 'nunique'}).reset_index().rename(columns={'asin': 'count_asin'})\n",
    "\n",
    "count_user[count_user.count_asin>=5].shape"
   ]
  },
  {
   "cell_type": "code",
   "execution_count": 200,
   "metadata": {},
   "outputs": [
    {
     "data": {
      "text/plain": [
       "(63229, 10)"
      ]
     },
     "execution_count": 200,
     "metadata": {},
     "output_type": "execute_result"
    }
   ],
   "source": [
    "ratings = ratings[(ratings.user_id.isin(count_user[count_user.count_asin>=5].user_id))]\n",
    "\n",
    "ratings.shape"
   ]
  },
  {
   "cell_type": "code",
   "execution_count": 201,
   "metadata": {},
   "outputs": [
    {
     "data": {
      "text/html": [
       "<div>\n",
       "<style scoped>\n",
       "    .dataframe tbody tr th:only-of-type {\n",
       "        vertical-align: middle;\n",
       "    }\n",
       "\n",
       "    .dataframe tbody tr th {\n",
       "        vertical-align: top;\n",
       "    }\n",
       "\n",
       "    .dataframe thead th {\n",
       "        text-align: right;\n",
       "    }\n",
       "</style>\n",
       "<table border=\"1\" class=\"dataframe\">\n",
       "  <thead>\n",
       "    <tr style=\"text-align: right;\">\n",
       "      <th></th>\n",
       "      <th>rating</th>\n",
       "      <th>title</th>\n",
       "      <th>text</th>\n",
       "      <th>images</th>\n",
       "      <th>asin</th>\n",
       "      <th>parent_asin</th>\n",
       "      <th>user_id</th>\n",
       "      <th>timestamp</th>\n",
       "      <th>helpful_vote</th>\n",
       "      <th>verified_purchase</th>\n",
       "    </tr>\n",
       "  </thead>\n",
       "  <tbody>\n",
       "    <tr>\n",
       "      <th>48</th>\n",
       "      <td>2.0</td>\n",
       "      <td>elastic adjustable bands for charge 4</td>\n",
       "      <td>Well.  I really like the idea, however, they a...</td>\n",
       "      <td>[]</td>\n",
       "      <td>B098NYMTYH</td>\n",
       "      <td>B098NYMTYH</td>\n",
       "      <td>AFZUK3MTBIBEDQOPAK3OATUOUKLA</td>\n",
       "      <td>1661808780730</td>\n",
       "      <td>0</td>\n",
       "      <td>True</td>\n",
       "    </tr>\n",
       "    <tr>\n",
       "      <th>49</th>\n",
       "      <td>2.0</td>\n",
       "      <td>open shoulder t shirt</td>\n",
       "      <td>I am 5'7\".. usually wear a 14/16 or 0x/1x.. 38...</td>\n",
       "      <td>[]</td>\n",
       "      <td>B095CHR38Z</td>\n",
       "      <td>B095CHR38Z</td>\n",
       "      <td>AFZUK3MTBIBEDQOPAK3OATUOUKLA</td>\n",
       "      <td>1645062075013</td>\n",
       "      <td>2</td>\n",
       "      <td>True</td>\n",
       "    </tr>\n",
       "    <tr>\n",
       "      <th>50</th>\n",
       "      <td>5.0</td>\n",
       "      <td>fancy pumpkin headband</td>\n",
       "      <td>Purchased for my sister to use on Halloween......</td>\n",
       "      <td>[]</td>\n",
       "      <td>B071HMN7K8</td>\n",
       "      <td>B071HMN7K8</td>\n",
       "      <td>AFZUK3MTBIBEDQOPAK3OATUOUKLA</td>\n",
       "      <td>1635309000822</td>\n",
       "      <td>0</td>\n",
       "      <td>True</td>\n",
       "    </tr>\n",
       "    <tr>\n",
       "      <th>52</th>\n",
       "      <td>1.0</td>\n",
       "      <td>Nike Jacket?</td>\n",
       "      <td>The photo doesn't show this but you need a col...</td>\n",
       "      <td>[]</td>\n",
       "      <td>B074XF4KG4</td>\n",
       "      <td>B074XF4KG4</td>\n",
       "      <td>AFZUK3MTBIBEDQOPAK3OATUOUKLA</td>\n",
       "      <td>1611092662402</td>\n",
       "      <td>0</td>\n",
       "      <td>True</td>\n",
       "    </tr>\n",
       "    <tr>\n",
       "      <th>53</th>\n",
       "      <td>4.0</td>\n",
       "      <td>green turtleneck</td>\n",
       "      <td>Slimfit green turtleneck... I am 5'7\"... 38DDD...</td>\n",
       "      <td>[]</td>\n",
       "      <td>B08KXH42H9</td>\n",
       "      <td>B08KXH42H9</td>\n",
       "      <td>AFZUK3MTBIBEDQOPAK3OATUOUKLA</td>\n",
       "      <td>1607128372655</td>\n",
       "      <td>0</td>\n",
       "      <td>True</td>\n",
       "    </tr>\n",
       "  </tbody>\n",
       "</table>\n",
       "</div>"
      ],
      "text/plain": [
       "    rating                                  title  \\\n",
       "48     2.0  elastic adjustable bands for charge 4   \n",
       "49     2.0                  open shoulder t shirt   \n",
       "50     5.0                 fancy pumpkin headband   \n",
       "52     1.0                           Nike Jacket?   \n",
       "53     4.0                       green turtleneck   \n",
       "\n",
       "                                                 text images        asin  \\\n",
       "48  Well.  I really like the idea, however, they a...     []  B098NYMTYH   \n",
       "49  I am 5'7\".. usually wear a 14/16 or 0x/1x.. 38...     []  B095CHR38Z   \n",
       "50  Purchased for my sister to use on Halloween......     []  B071HMN7K8   \n",
       "52  The photo doesn't show this but you need a col...     []  B074XF4KG4   \n",
       "53  Slimfit green turtleneck... I am 5'7\"... 38DDD...     []  B08KXH42H9   \n",
       "\n",
       "   parent_asin                       user_id      timestamp  helpful_vote  \\\n",
       "48  B098NYMTYH  AFZUK3MTBIBEDQOPAK3OATUOUKLA  1661808780730             0   \n",
       "49  B095CHR38Z  AFZUK3MTBIBEDQOPAK3OATUOUKLA  1645062075013             2   \n",
       "50  B071HMN7K8  AFZUK3MTBIBEDQOPAK3OATUOUKLA  1635309000822             0   \n",
       "52  B074XF4KG4  AFZUK3MTBIBEDQOPAK3OATUOUKLA  1611092662402             0   \n",
       "53  B08KXH42H9  AFZUK3MTBIBEDQOPAK3OATUOUKLA  1607128372655             0   \n",
       "\n",
       "    verified_purchase  \n",
       "48               True  \n",
       "49               True  \n",
       "50               True  \n",
       "52               True  \n",
       "53               True  "
      ]
     },
     "execution_count": 201,
     "metadata": {},
     "output_type": "execute_result"
    }
   ],
   "source": [
    "ratings.head()"
   ]
  },
  {
   "cell_type": "code",
   "execution_count": 209,
   "metadata": {},
   "outputs": [],
   "source": [
    "## last interaction of each user\n",
    "\n",
    "loo = ratings.loc[ratings.groupby('user_id')['timestamp'].idxmax()]"
   ]
  },
  {
   "cell_type": "code",
   "execution_count": 210,
   "metadata": {},
   "outputs": [
    {
     "data": {
      "text/plain": [
       "((53663, 10), (9566, 10), (63229, 10))"
      ]
     },
     "execution_count": 210,
     "metadata": {},
     "output_type": "execute_result"
    }
   ],
   "source": [
    "## remained interactions excluding last interaction of each user\n",
    "\n",
    "remain = ratings[~ratings.index.isin(loo.index)]\n",
    "remain.shape, loo.shape, ratings.shape"
   ]
  },
  {
   "cell_type": "code",
   "execution_count": 212,
   "metadata": {},
   "outputs": [
    {
     "data": {
      "text/html": [
       "<div>\n",
       "<style scoped>\n",
       "    .dataframe tbody tr th:only-of-type {\n",
       "        vertical-align: middle;\n",
       "    }\n",
       "\n",
       "    .dataframe tbody tr th {\n",
       "        vertical-align: top;\n",
       "    }\n",
       "\n",
       "    .dataframe thead th {\n",
       "        text-align: right;\n",
       "    }\n",
       "</style>\n",
       "<table border=\"1\" class=\"dataframe\">\n",
       "  <thead>\n",
       "    <tr style=\"text-align: right;\">\n",
       "      <th></th>\n",
       "      <th>user_id</th>\n",
       "      <th>asin</th>\n",
       "      <th>rating</th>\n",
       "      <th>timestamp</th>\n",
       "    </tr>\n",
       "  </thead>\n",
       "  <tbody>\n",
       "    <tr>\n",
       "      <th>1465723</th>\n",
       "      <td>AE22M44KAE72RFU6DWM5Y3YN6SEA</td>\n",
       "      <td>B01LXOXLA1</td>\n",
       "      <td>3.0</td>\n",
       "      <td>1494008552000</td>\n",
       "    </tr>\n",
       "    <tr>\n",
       "      <th>1008584</th>\n",
       "      <td>AE23BYWB52METWQVHSPN3MKN7AJA</td>\n",
       "      <td>B094J98QT9</td>\n",
       "      <td>1.0</td>\n",
       "      <td>1653146545518</td>\n",
       "    </tr>\n",
       "    <tr>\n",
       "      <th>794474</th>\n",
       "      <td>AE23ERACMJTGJJVEKZHU5VU6YZHA</td>\n",
       "      <td>B0713PN77B</td>\n",
       "      <td>5.0</td>\n",
       "      <td>1560016417138</td>\n",
       "    </tr>\n",
       "    <tr>\n",
       "      <th>1481228</th>\n",
       "      <td>AE26PXEWX73ULGW5RAROBYPTWCWA</td>\n",
       "      <td>B0779ZCLG1</td>\n",
       "      <td>5.0</td>\n",
       "      <td>1533549549679</td>\n",
       "    </tr>\n",
       "    <tr>\n",
       "      <th>1690323</th>\n",
       "      <td>AE26QJAXLZIQC4UNFKQFA4M2A3VA</td>\n",
       "      <td>B07WCLP2GK</td>\n",
       "      <td>5.0</td>\n",
       "      <td>1569034094097</td>\n",
       "    </tr>\n",
       "  </tbody>\n",
       "</table>\n",
       "</div>"
      ],
      "text/plain": [
       "                              user_id        asin  rating      timestamp\n",
       "1465723  AE22M44KAE72RFU6DWM5Y3YN6SEA  B01LXOXLA1     3.0  1494008552000\n",
       "1008584  AE23BYWB52METWQVHSPN3MKN7AJA  B094J98QT9     1.0  1653146545518\n",
       "794474   AE23ERACMJTGJJVEKZHU5VU6YZHA  B0713PN77B     5.0  1560016417138\n",
       "1481228  AE26PXEWX73ULGW5RAROBYPTWCWA  B0779ZCLG1     5.0  1533549549679\n",
       "1690323  AE26QJAXLZIQC4UNFKQFA4M2A3VA  B07WCLP2GK     5.0  1569034094097"
      ]
     },
     "execution_count": 212,
     "metadata": {},
     "output_type": "execute_result"
    }
   ],
   "source": [
    "loo[['user_id', 'asin', 'rating', 'timestamp']].head()"
   ]
  },
  {
   "cell_type": "code",
   "execution_count": 213,
   "metadata": {},
   "outputs": [
    {
     "data": {
      "text/html": [
       "<div>\n",
       "<style scoped>\n",
       "    .dataframe tbody tr th:only-of-type {\n",
       "        vertical-align: middle;\n",
       "    }\n",
       "\n",
       "    .dataframe tbody tr th {\n",
       "        vertical-align: top;\n",
       "    }\n",
       "\n",
       "    .dataframe thead th {\n",
       "        text-align: right;\n",
       "    }\n",
       "</style>\n",
       "<table border=\"1\" class=\"dataframe\">\n",
       "  <thead>\n",
       "    <tr style=\"text-align: right;\">\n",
       "      <th></th>\n",
       "      <th>user_id</th>\n",
       "      <th>asin</th>\n",
       "      <th>rating</th>\n",
       "      <th>timestamp</th>\n",
       "    </tr>\n",
       "  </thead>\n",
       "  <tbody>\n",
       "    <tr>\n",
       "      <th>794474</th>\n",
       "      <td>AE23ERACMJTGJJVEKZHU5VU6YZHA</td>\n",
       "      <td>B0713PN77B</td>\n",
       "      <td>5.0</td>\n",
       "      <td>1560016417138</td>\n",
       "    </tr>\n",
       "    <tr>\n",
       "      <th>785680</th>\n",
       "      <td>AE274ELTNGUU6B3ZF7HUUJARXUIQ</td>\n",
       "      <td>B00N9X8VHY</td>\n",
       "      <td>5.0</td>\n",
       "      <td>1475322186000</td>\n",
       "    </tr>\n",
       "    <tr>\n",
       "      <th>1242387</th>\n",
       "      <td>AE2E2EBMC32XMPHHYTQBXU4MXCNA</td>\n",
       "      <td>B01EN4KVRK</td>\n",
       "      <td>5.0</td>\n",
       "      <td>1498787164039</td>\n",
       "    </tr>\n",
       "    <tr>\n",
       "      <th>945782</th>\n",
       "      <td>AE2MR33PBSOMX3ISKWRFFWP2V66Q</td>\n",
       "      <td>B00KA3SRVG</td>\n",
       "      <td>5.0</td>\n",
       "      <td>1460551598000</td>\n",
       "    </tr>\n",
       "    <tr>\n",
       "      <th>726398</th>\n",
       "      <td>AE2NF4KWRNOCX3AELFDWT3XSWSQQ</td>\n",
       "      <td>B07PR6F5JD</td>\n",
       "      <td>5.0</td>\n",
       "      <td>1560815099430</td>\n",
       "    </tr>\n",
       "    <tr>\n",
       "      <th>...</th>\n",
       "      <td>...</td>\n",
       "      <td>...</td>\n",
       "      <td>...</td>\n",
       "      <td>...</td>\n",
       "    </tr>\n",
       "    <tr>\n",
       "      <th>1540721</th>\n",
       "      <td>AHZP4XCD3RAB4KJG3J5N4QYESCKA</td>\n",
       "      <td>B00PJIPH2O</td>\n",
       "      <td>2.0</td>\n",
       "      <td>1483042586000</td>\n",
       "    </tr>\n",
       "    <tr>\n",
       "      <th>909784</th>\n",
       "      <td>AHZP5Q474KKOF465OFANSHL6FRXA</td>\n",
       "      <td>B01K8YIB8K</td>\n",
       "      <td>5.0</td>\n",
       "      <td>1536254130657</td>\n",
       "    </tr>\n",
       "    <tr>\n",
       "      <th>570908</th>\n",
       "      <td>AHZUZ3YYBUE7D7DG5QJ46EDASOOQ</td>\n",
       "      <td>B00KATGS16</td>\n",
       "      <td>5.0</td>\n",
       "      <td>1481438428000</td>\n",
       "    </tr>\n",
       "    <tr>\n",
       "      <th>610838</th>\n",
       "      <td>AHZXRKXTXBLR5JJKFQZ3ME2VWCMA</td>\n",
       "      <td>B00KA3VX62</td>\n",
       "      <td>5.0</td>\n",
       "      <td>1529615304471</td>\n",
       "    </tr>\n",
       "    <tr>\n",
       "      <th>109895</th>\n",
       "      <td>AHZZ6SGWPYHMV7EKQDBVUTHHFZUA</td>\n",
       "      <td>B01A9MA3ZK</td>\n",
       "      <td>4.0</td>\n",
       "      <td>1529283444064</td>\n",
       "    </tr>\n",
       "  </tbody>\n",
       "</table>\n",
       "<p>1426 rows × 4 columns</p>\n",
       "</div>"
      ],
      "text/plain": [
       "                              user_id        asin  rating      timestamp\n",
       "794474   AE23ERACMJTGJJVEKZHU5VU6YZHA  B0713PN77B     5.0  1560016417138\n",
       "785680   AE274ELTNGUU6B3ZF7HUUJARXUIQ  B00N9X8VHY     5.0  1475322186000\n",
       "1242387  AE2E2EBMC32XMPHHYTQBXU4MXCNA  B01EN4KVRK     5.0  1498787164039\n",
       "945782   AE2MR33PBSOMX3ISKWRFFWP2V66Q  B00KA3SRVG     5.0  1460551598000\n",
       "726398   AE2NF4KWRNOCX3AELFDWT3XSWSQQ  B07PR6F5JD     5.0  1560815099430\n",
       "...                               ...         ...     ...            ...\n",
       "1540721  AHZP4XCD3RAB4KJG3J5N4QYESCKA  B00PJIPH2O     2.0  1483042586000\n",
       "909784   AHZP5Q474KKOF465OFANSHL6FRXA  B01K8YIB8K     5.0  1536254130657\n",
       "570908   AHZUZ3YYBUE7D7DG5QJ46EDASOOQ  B00KATGS16     5.0  1481438428000\n",
       "610838   AHZXRKXTXBLR5JJKFQZ3ME2VWCMA  B00KA3VX62     5.0  1529615304471\n",
       "109895   AHZZ6SGWPYHMV7EKQDBVUTHHFZUA  B01A9MA3ZK     4.0  1529283444064\n",
       "\n",
       "[1426 rows x 4 columns]"
      ]
     },
     "execution_count": 213,
     "metadata": {},
     "output_type": "execute_result"
    }
   ],
   "source": [
    "loo[loo.asin.isin(remain.asin)][['user_id', 'asin', 'rating', 'timestamp']]\n",
    "\n",
    "## 1426 users whose last interacted item is in the remained interactions. These records can be used as test set so that the test items all appear in the training set."
   ]
  },
  {
   "cell_type": "code",
   "execution_count": 214,
   "metadata": {},
   "outputs": [
    {
     "data": {
      "text/plain": [
       "(1426, 10)"
      ]
     },
     "execution_count": 214,
     "metadata": {},
     "output_type": "execute_result"
    }
   ],
   "source": [
    "test_set = loo[loo.asin.isin(remain.asin)]\n",
    "test_userid = loo[loo.asin.isin(remain.asin)].user_id\n",
    "test_set.shape"
   ]
  },
  {
   "cell_type": "code",
   "execution_count": 217,
   "metadata": {},
   "outputs": [
    {
     "data": {
      "text/html": [
       "<div>\n",
       "<style scoped>\n",
       "    .dataframe tbody tr th:only-of-type {\n",
       "        vertical-align: middle;\n",
       "    }\n",
       "\n",
       "    .dataframe tbody tr th {\n",
       "        vertical-align: top;\n",
       "    }\n",
       "\n",
       "    .dataframe thead th {\n",
       "        text-align: right;\n",
       "    }\n",
       "</style>\n",
       "<table border=\"1\" class=\"dataframe\">\n",
       "  <thead>\n",
       "    <tr style=\"text-align: right;\">\n",
       "      <th></th>\n",
       "      <th>rating</th>\n",
       "      <th>title</th>\n",
       "      <th>text</th>\n",
       "      <th>images</th>\n",
       "      <th>asin</th>\n",
       "      <th>parent_asin</th>\n",
       "      <th>user_id</th>\n",
       "      <th>timestamp</th>\n",
       "      <th>helpful_vote</th>\n",
       "      <th>verified_purchase</th>\n",
       "    </tr>\n",
       "  </thead>\n",
       "  <tbody>\n",
       "    <tr>\n",
       "      <th>48</th>\n",
       "      <td>2.0</td>\n",
       "      <td>elastic adjustable bands for charge 4</td>\n",
       "      <td>Well.  I really like the idea, however, they a...</td>\n",
       "      <td>[]</td>\n",
       "      <td>B098NYMTYH</td>\n",
       "      <td>B098NYMTYH</td>\n",
       "      <td>AFZUK3MTBIBEDQOPAK3OATUOUKLA</td>\n",
       "      <td>1661808780730</td>\n",
       "      <td>0</td>\n",
       "      <td>True</td>\n",
       "    </tr>\n",
       "    <tr>\n",
       "      <th>49</th>\n",
       "      <td>2.0</td>\n",
       "      <td>open shoulder t shirt</td>\n",
       "      <td>I am 5'7\".. usually wear a 14/16 or 0x/1x.. 38...</td>\n",
       "      <td>[]</td>\n",
       "      <td>B095CHR38Z</td>\n",
       "      <td>B095CHR38Z</td>\n",
       "      <td>AFZUK3MTBIBEDQOPAK3OATUOUKLA</td>\n",
       "      <td>1645062075013</td>\n",
       "      <td>2</td>\n",
       "      <td>True</td>\n",
       "    </tr>\n",
       "    <tr>\n",
       "      <th>50</th>\n",
       "      <td>5.0</td>\n",
       "      <td>fancy pumpkin headband</td>\n",
       "      <td>Purchased for my sister to use on Halloween......</td>\n",
       "      <td>[]</td>\n",
       "      <td>B071HMN7K8</td>\n",
       "      <td>B071HMN7K8</td>\n",
       "      <td>AFZUK3MTBIBEDQOPAK3OATUOUKLA</td>\n",
       "      <td>1635309000822</td>\n",
       "      <td>0</td>\n",
       "      <td>True</td>\n",
       "    </tr>\n",
       "    <tr>\n",
       "      <th>52</th>\n",
       "      <td>1.0</td>\n",
       "      <td>Nike Jacket?</td>\n",
       "      <td>The photo doesn't show this but you need a col...</td>\n",
       "      <td>[]</td>\n",
       "      <td>B074XF4KG4</td>\n",
       "      <td>B074XF4KG4</td>\n",
       "      <td>AFZUK3MTBIBEDQOPAK3OATUOUKLA</td>\n",
       "      <td>1611092662402</td>\n",
       "      <td>0</td>\n",
       "      <td>True</td>\n",
       "    </tr>\n",
       "    <tr>\n",
       "      <th>53</th>\n",
       "      <td>4.0</td>\n",
       "      <td>green turtleneck</td>\n",
       "      <td>Slimfit green turtleneck... I am 5'7\"... 38DDD...</td>\n",
       "      <td>[]</td>\n",
       "      <td>B08KXH42H9</td>\n",
       "      <td>B08KXH42H9</td>\n",
       "      <td>AFZUK3MTBIBEDQOPAK3OATUOUKLA</td>\n",
       "      <td>1607128372655</td>\n",
       "      <td>0</td>\n",
       "      <td>True</td>\n",
       "    </tr>\n",
       "  </tbody>\n",
       "</table>\n",
       "</div>"
      ],
      "text/plain": [
       "    rating                                  title  \\\n",
       "48     2.0  elastic adjustable bands for charge 4   \n",
       "49     2.0                  open shoulder t shirt   \n",
       "50     5.0                 fancy pumpkin headband   \n",
       "52     1.0                           Nike Jacket?   \n",
       "53     4.0                       green turtleneck   \n",
       "\n",
       "                                                 text images        asin  \\\n",
       "48  Well.  I really like the idea, however, they a...     []  B098NYMTYH   \n",
       "49  I am 5'7\".. usually wear a 14/16 or 0x/1x.. 38...     []  B095CHR38Z   \n",
       "50  Purchased for my sister to use on Halloween......     []  B071HMN7K8   \n",
       "52  The photo doesn't show this but you need a col...     []  B074XF4KG4   \n",
       "53  Slimfit green turtleneck... I am 5'7\"... 38DDD...     []  B08KXH42H9   \n",
       "\n",
       "   parent_asin                       user_id      timestamp  helpful_vote  \\\n",
       "48  B098NYMTYH  AFZUK3MTBIBEDQOPAK3OATUOUKLA  1661808780730             0   \n",
       "49  B095CHR38Z  AFZUK3MTBIBEDQOPAK3OATUOUKLA  1645062075013             2   \n",
       "50  B071HMN7K8  AFZUK3MTBIBEDQOPAK3OATUOUKLA  1635309000822             0   \n",
       "52  B074XF4KG4  AFZUK3MTBIBEDQOPAK3OATUOUKLA  1611092662402             0   \n",
       "53  B08KXH42H9  AFZUK3MTBIBEDQOPAK3OATUOUKLA  1607128372655             0   \n",
       "\n",
       "    verified_purchase  \n",
       "48               True  \n",
       "49               True  \n",
       "50               True  \n",
       "52               True  \n",
       "53               True  "
      ]
     },
     "execution_count": 217,
     "metadata": {},
     "output_type": "execute_result"
    }
   ],
   "source": [
    "train_set = ratings[~ratings.index.isin(test_set.index)]\n",
    "train_set.head()"
   ]
  },
  {
   "cell_type": "markdown",
   "metadata": {},
   "source": [
    "### check if training set and test set are eligible for model training and testing\n",
    "* all users in train_set must have interacted at least 4 items in train_set (and have interacted at least 5 items in the whole dataset)  \n",
    "* all items in test_set must have been interacted (have appeared) in train_set"
   ]
  },
  {
   "cell_type": "code",
   "execution_count": 218,
   "metadata": {},
   "outputs": [
    {
     "data": {
      "text/html": [
       "<div>\n",
       "<style scoped>\n",
       "    .dataframe tbody tr th:only-of-type {\n",
       "        vertical-align: middle;\n",
       "    }\n",
       "\n",
       "    .dataframe tbody tr th {\n",
       "        vertical-align: top;\n",
       "    }\n",
       "\n",
       "    .dataframe thead th {\n",
       "        text-align: right;\n",
       "    }\n",
       "</style>\n",
       "<table border=\"1\" class=\"dataframe\">\n",
       "  <thead>\n",
       "    <tr style=\"text-align: right;\">\n",
       "      <th></th>\n",
       "      <th>count_asin</th>\n",
       "    </tr>\n",
       "  </thead>\n",
       "  <tbody>\n",
       "    <tr>\n",
       "      <th>count</th>\n",
       "      <td>9566.000000</td>\n",
       "    </tr>\n",
       "    <tr>\n",
       "      <th>mean</th>\n",
       "      <td>6.424420</td>\n",
       "    </tr>\n",
       "    <tr>\n",
       "      <th>std</th>\n",
       "      <td>3.006229</td>\n",
       "    </tr>\n",
       "    <tr>\n",
       "      <th>min</th>\n",
       "      <td>4.000000</td>\n",
       "    </tr>\n",
       "    <tr>\n",
       "      <th>25%</th>\n",
       "      <td>5.000000</td>\n",
       "    </tr>\n",
       "    <tr>\n",
       "      <th>50%</th>\n",
       "      <td>5.000000</td>\n",
       "    </tr>\n",
       "    <tr>\n",
       "      <th>75%</th>\n",
       "      <td>7.000000</td>\n",
       "    </tr>\n",
       "    <tr>\n",
       "      <th>max</th>\n",
       "      <td>57.000000</td>\n",
       "    </tr>\n",
       "  </tbody>\n",
       "</table>\n",
       "</div>"
      ],
      "text/plain": [
       "        count_asin\n",
       "count  9566.000000\n",
       "mean      6.424420\n",
       "std       3.006229\n",
       "min       4.000000\n",
       "25%       5.000000\n",
       "50%       5.000000\n",
       "75%       7.000000\n",
       "max      57.000000"
      ]
     },
     "execution_count": 218,
     "metadata": {},
     "output_type": "execute_result"
    }
   ],
   "source": [
    "train_set.groupby('user_id').agg({'asin': 'nunique'}).reset_index().rename(columns={'asin': 'count_asin'}).describe()"
   ]
  },
  {
   "cell_type": "code",
   "execution_count": 222,
   "metadata": {},
   "outputs": [
    {
     "data": {
      "text/plain": [
       "(0, 10)"
      ]
     },
     "execution_count": 222,
     "metadata": {},
     "output_type": "execute_result"
    }
   ],
   "source": [
    "test_set[~test_set.asin.isin(train_set.asin)].shape"
   ]
  },
  {
   "cell_type": "markdown",
   "metadata": {},
   "source": [
    "### filter and rename columns and save to files"
   ]
  },
  {
   "cell_type": "code",
   "execution_count": 225,
   "metadata": {},
   "outputs": [],
   "source": [
    "ratings = ratings[['user_id', 'asin', 'rating', 'timestamp']].rename(columns={'asin': 'item_id'})\n",
    "train_set = train_set[['user_id', 'asin', 'rating', 'timestamp']].rename(columns={'asin': 'item_id'})\n",
    "test_set = test_set[['user_id', 'asin', 'rating', 'timestamp']].rename(columns={'asin': 'item_id'})"
   ]
  },
  {
   "cell_type": "code",
   "execution_count": 230,
   "metadata": {},
   "outputs": [],
   "source": [
    "ratings.to_csv('data/ratings.csv')\n",
    "train_set.to_csv('data/train_set.csv')\n",
    "test_set.to_csv('data/test_set.csv')"
   ]
  },
  {
   "cell_type": "code",
   "execution_count": null,
   "metadata": {},
   "outputs": [],
   "source": []
  },
  {
   "cell_type": "markdown",
   "metadata": {},
   "source": [
    "## Filter product metadata"
   ]
  },
  {
   "cell_type": "code",
   "execution_count": 96,
   "metadata": {},
   "outputs": [
    {
     "data": {
      "text/html": [
       "<div>\n",
       "<style scoped>\n",
       "    .dataframe tbody tr th:only-of-type {\n",
       "        vertical-align: middle;\n",
       "    }\n",
       "\n",
       "    .dataframe tbody tr th {\n",
       "        vertical-align: top;\n",
       "    }\n",
       "\n",
       "    .dataframe thead th {\n",
       "        text-align: right;\n",
       "    }\n",
       "</style>\n",
       "<table border=\"1\" class=\"dataframe\">\n",
       "  <thead>\n",
       "    <tr style=\"text-align: right;\">\n",
       "      <th></th>\n",
       "      <th>main_category</th>\n",
       "      <th>title</th>\n",
       "      <th>average_rating</th>\n",
       "      <th>rating_number</th>\n",
       "      <th>features</th>\n",
       "      <th>description</th>\n",
       "      <th>price</th>\n",
       "      <th>images</th>\n",
       "      <th>videos</th>\n",
       "      <th>store</th>\n",
       "      <th>categories</th>\n",
       "      <th>details</th>\n",
       "      <th>parent_asin</th>\n",
       "      <th>bought_together</th>\n",
       "    </tr>\n",
       "  </thead>\n",
       "  <tbody>\n",
       "    <tr>\n",
       "      <th>0</th>\n",
       "      <td>AMAZON FASHION</td>\n",
       "      <td>YUEDGE 5 Pairs Men's Moisture Control Cushione...</td>\n",
       "      <td>4.6</td>\n",
       "      <td>16</td>\n",
       "      <td>[]</td>\n",
       "      <td>[]</td>\n",
       "      <td>NaN</td>\n",
       "      <td>[{'thumb': 'https://m.media-amazon.com/images/...</td>\n",
       "      <td>[]</td>\n",
       "      <td>GiveGift</td>\n",
       "      <td>[]</td>\n",
       "      <td>{'Package Dimensions': '10.31 x 8.5 x 1.73 inc...</td>\n",
       "      <td>B08BHN9PK5</td>\n",
       "      <td>None</td>\n",
       "    </tr>\n",
       "    <tr>\n",
       "      <th>1</th>\n",
       "      <td>AMAZON FASHION</td>\n",
       "      <td>DouBCQ Women's Palazzo Lounge Wide Leg Casual ...</td>\n",
       "      <td>4.1</td>\n",
       "      <td>7</td>\n",
       "      <td>[Drawstring closure, Machine Wash]</td>\n",
       "      <td>[]</td>\n",
       "      <td>NaN</td>\n",
       "      <td>[{'thumb': 'https://m.media-amazon.com/images/...</td>\n",
       "      <td>[]</td>\n",
       "      <td>DouBCQ</td>\n",
       "      <td>[]</td>\n",
       "      <td>{'Package Dimensions': '15 x 10.2 x 0.4 inches...</td>\n",
       "      <td>B08R39MRDW</td>\n",
       "      <td>None</td>\n",
       "    </tr>\n",
       "  </tbody>\n",
       "</table>\n",
       "</div>"
      ],
      "text/plain": [
       "    main_category                                              title  \\\n",
       "0  AMAZON FASHION  YUEDGE 5 Pairs Men's Moisture Control Cushione...   \n",
       "1  AMAZON FASHION  DouBCQ Women's Palazzo Lounge Wide Leg Casual ...   \n",
       "\n",
       "   average_rating  rating_number                            features  \\\n",
       "0             4.6             16                                  []   \n",
       "1             4.1              7  [Drawstring closure, Machine Wash]   \n",
       "\n",
       "  description  price                                             images  \\\n",
       "0          []    NaN  [{'thumb': 'https://m.media-amazon.com/images/...   \n",
       "1          []    NaN  [{'thumb': 'https://m.media-amazon.com/images/...   \n",
       "\n",
       "  videos     store categories  \\\n",
       "0     []  GiveGift         []   \n",
       "1     []    DouBCQ         []   \n",
       "\n",
       "                                             details parent_asin  \\\n",
       "0  {'Package Dimensions': '10.31 x 8.5 x 1.73 inc...  B08BHN9PK5   \n",
       "1  {'Package Dimensions': '15 x 10.2 x 0.4 inches...  B08R39MRDW   \n",
       "\n",
       "  bought_together  \n",
       "0            None  \n",
       "1            None  "
      ]
     },
     "execution_count": 96,
     "metadata": {},
     "output_type": "execute_result"
    }
   ],
   "source": [
    "meta.head(2)"
   ]
  },
  {
   "cell_type": "code",
   "execution_count": 97,
   "metadata": {},
   "outputs": [
    {
     "data": {
      "text/plain": [
       "count    826108.000000\n",
       "mean          0.181550\n",
       "std           1.374751\n",
       "min           0.000000\n",
       "25%           0.000000\n",
       "50%           0.000000\n",
       "75%           0.000000\n",
       "max         101.000000\n",
       "Name: description, dtype: float64"
      ]
     },
     "execution_count": 97,
     "metadata": {},
     "output_type": "execute_result"
    }
   ],
   "source": [
    "meta.description.apply(lambda x: len(x)).describe()  ## description column not useful since too many are empty"
   ]
  },
  {
   "cell_type": "code",
   "execution_count": 231,
   "metadata": {},
   "outputs": [],
   "source": [
    "product = meta[['parent_asin', 'title']].rename(columns={'parent_asin': 'item_id'})"
   ]
  },
  {
   "cell_type": "code",
   "execution_count": 235,
   "metadata": {},
   "outputs": [
    {
     "data": {
      "text/plain": [
       "(52619, 2)"
      ]
     },
     "execution_count": 235,
     "metadata": {},
     "output_type": "execute_result"
    }
   ],
   "source": [
    "product = product[product.item_id.isin(ratings.item_id)]\n",
    "\n",
    "product.shape"
   ]
  },
  {
   "cell_type": "code",
   "execution_count": 236,
   "metadata": {},
   "outputs": [
    {
     "data": {
      "text/html": [
       "<div>\n",
       "<style scoped>\n",
       "    .dataframe tbody tr th:only-of-type {\n",
       "        vertical-align: middle;\n",
       "    }\n",
       "\n",
       "    .dataframe tbody tr th {\n",
       "        vertical-align: top;\n",
       "    }\n",
       "\n",
       "    .dataframe thead th {\n",
       "        text-align: right;\n",
       "    }\n",
       "</style>\n",
       "<table border=\"1\" class=\"dataframe\">\n",
       "  <thead>\n",
       "    <tr style=\"text-align: right;\">\n",
       "      <th></th>\n",
       "      <th>item_id</th>\n",
       "      <th>title</th>\n",
       "    </tr>\n",
       "  </thead>\n",
       "  <tbody>\n",
       "    <tr>\n",
       "      <th>9</th>\n",
       "      <td>B07DXHY5ZX</td>\n",
       "      <td>PattyBoutik Women Crewneck Eyelet Cold Shoulde...</td>\n",
       "    </tr>\n",
       "    <tr>\n",
       "      <th>21</th>\n",
       "      <td>B01AUYK33Y</td>\n",
       "      <td>Stainless Steel Bracelet Grooved Cuff Bangle f...</td>\n",
       "    </tr>\n",
       "    <tr>\n",
       "      <th>22</th>\n",
       "      <td>B074C8GVHJ</td>\n",
       "      <td>ACEVOG Women Floral Printed Button Down V Neck...</td>\n",
       "    </tr>\n",
       "    <tr>\n",
       "      <th>26</th>\n",
       "      <td>B077JWX1MX</td>\n",
       "      <td>ELEOSL Women Ladies Sleeveless Fit and Flare R...</td>\n",
       "    </tr>\n",
       "    <tr>\n",
       "      <th>39</th>\n",
       "      <td>B08TWC3WKW</td>\n",
       "      <td>akimoom Scrunchie Watch Band for Galaxy 46mm/G...</td>\n",
       "    </tr>\n",
       "  </tbody>\n",
       "</table>\n",
       "</div>"
      ],
      "text/plain": [
       "       item_id                                              title\n",
       "9   B07DXHY5ZX  PattyBoutik Women Crewneck Eyelet Cold Shoulde...\n",
       "21  B01AUYK33Y  Stainless Steel Bracelet Grooved Cuff Bangle f...\n",
       "22  B074C8GVHJ  ACEVOG Women Floral Printed Button Down V Neck...\n",
       "26  B077JWX1MX  ELEOSL Women Ladies Sleeveless Fit and Flare R...\n",
       "39  B08TWC3WKW  akimoom Scrunchie Watch Band for Galaxy 46mm/G..."
      ]
     },
     "execution_count": 236,
     "metadata": {},
     "output_type": "execute_result"
    }
   ],
   "source": [
    "product.head()"
   ]
  },
  {
   "cell_type": "code",
   "execution_count": 237,
   "metadata": {},
   "outputs": [],
   "source": [
    "product.to_csv('data/product.csv')"
   ]
  },
  {
   "cell_type": "markdown",
   "metadata": {},
   "source": [
    "# EDA"
   ]
  },
  {
   "cell_type": "code",
   "execution_count": 315,
   "metadata": {},
   "outputs": [],
   "source": [
    "ratings = pd.read_csv('data/ratings.csv')\n",
    "train_set = pd.read_csv('data/train_set.csv')\n",
    "test_set = pd.read_csv('data/test_set.csv')\n",
    "\n",
    "ratings.rename(columns={'Unnamed: 0': 'id'}, inplace=True)\n",
    "train_set.rename(columns={'Unnamed: 0': 'id'}, inplace=True)\n",
    "test_set.rename(columns={'Unnamed: 0': 'id'}, inplace=True)"
   ]
  },
  {
   "cell_type": "code",
   "execution_count": 316,
   "metadata": {},
   "outputs": [
    {
     "data": {
      "text/plain": [
       "((63229, 5), 9566, 52619)"
      ]
     },
     "execution_count": 316,
     "metadata": {},
     "output_type": "execute_result"
    }
   ],
   "source": [
    "ratings.shape, ratings.user_id.nunique(), ratings.item_id.nunique()"
   ]
  },
  {
   "cell_type": "code",
   "execution_count": 317,
   "metadata": {},
   "outputs": [
    {
     "name": "stdout",
     "output_type": "stream",
     "text": [
      "sparsity of ratings matrix: 0.00012561553329790666\n"
     ]
    }
   ],
   "source": [
    "print('sparsity of ratings matrix:', ratings.shape[0]/(ratings.user_id.nunique()*ratings.item_id.nunique()))"
   ]
  },
  {
   "cell_type": "code",
   "execution_count": 319,
   "metadata": {},
   "outputs": [
    {
     "data": {
      "text/html": [
       "<div>\n",
       "<style scoped>\n",
       "    .dataframe tbody tr th:only-of-type {\n",
       "        vertical-align: middle;\n",
       "    }\n",
       "\n",
       "    .dataframe tbody tr th {\n",
       "        vertical-align: top;\n",
       "    }\n",
       "\n",
       "    .dataframe thead th {\n",
       "        text-align: right;\n",
       "    }\n",
       "</style>\n",
       "<table border=\"1\" class=\"dataframe\">\n",
       "  <thead>\n",
       "    <tr style=\"text-align: right;\">\n",
       "      <th></th>\n",
       "      <th>id</th>\n",
       "      <th>user_id</th>\n",
       "      <th>item_id</th>\n",
       "      <th>rating</th>\n",
       "      <th>timestamp</th>\n",
       "    </tr>\n",
       "  </thead>\n",
       "  <tbody>\n",
       "    <tr>\n",
       "      <th>0</th>\n",
       "      <td>48</td>\n",
       "      <td>AFZUK3MTBIBEDQOPAK3OATUOUKLA</td>\n",
       "      <td>B098NYMTYH</td>\n",
       "      <td>2.0</td>\n",
       "      <td>1661808780730</td>\n",
       "    </tr>\n",
       "    <tr>\n",
       "      <th>1</th>\n",
       "      <td>49</td>\n",
       "      <td>AFZUK3MTBIBEDQOPAK3OATUOUKLA</td>\n",
       "      <td>B095CHR38Z</td>\n",
       "      <td>2.0</td>\n",
       "      <td>1645062075013</td>\n",
       "    </tr>\n",
       "    <tr>\n",
       "      <th>2</th>\n",
       "      <td>50</td>\n",
       "      <td>AFZUK3MTBIBEDQOPAK3OATUOUKLA</td>\n",
       "      <td>B071HMN7K8</td>\n",
       "      <td>5.0</td>\n",
       "      <td>1635309000822</td>\n",
       "    </tr>\n",
       "    <tr>\n",
       "      <th>3</th>\n",
       "      <td>52</td>\n",
       "      <td>AFZUK3MTBIBEDQOPAK3OATUOUKLA</td>\n",
       "      <td>B074XF4KG4</td>\n",
       "      <td>1.0</td>\n",
       "      <td>1611092662402</td>\n",
       "    </tr>\n",
       "    <tr>\n",
       "      <th>4</th>\n",
       "      <td>53</td>\n",
       "      <td>AFZUK3MTBIBEDQOPAK3OATUOUKLA</td>\n",
       "      <td>B08KXH42H9</td>\n",
       "      <td>4.0</td>\n",
       "      <td>1607128372655</td>\n",
       "    </tr>\n",
       "  </tbody>\n",
       "</table>\n",
       "</div>"
      ],
      "text/plain": [
       "   id                       user_id     item_id  rating      timestamp\n",
       "0  48  AFZUK3MTBIBEDQOPAK3OATUOUKLA  B098NYMTYH     2.0  1661808780730\n",
       "1  49  AFZUK3MTBIBEDQOPAK3OATUOUKLA  B095CHR38Z     2.0  1645062075013\n",
       "2  50  AFZUK3MTBIBEDQOPAK3OATUOUKLA  B071HMN7K8     5.0  1635309000822\n",
       "3  52  AFZUK3MTBIBEDQOPAK3OATUOUKLA  B074XF4KG4     1.0  1611092662402\n",
       "4  53  AFZUK3MTBIBEDQOPAK3OATUOUKLA  B08KXH42H9     4.0  1607128372655"
      ]
     },
     "execution_count": 319,
     "metadata": {},
     "output_type": "execute_result"
    }
   ],
   "source": [
    "ratings.head()"
   ]
  },
  {
   "cell_type": "code",
   "execution_count": 321,
   "metadata": {},
   "outputs": [
    {
     "data": {
      "image/png": "[encoded data removed]",
      "text/plain": [
       "<Figure size 800x600 with 1 Axes>"
      ]
     },
     "metadata": {},
     "output_type": "display_data"
    }
   ],
   "source": [
    "plt.figure(figsize=(8, 6))\n",
    "\n",
    "ratings['rating'].value_counts().sort_index().plot(kind='bar', figsize=(8, 6), edgecolor='k', alpha=0.7)\n",
    "plt.title('Distribution of Ratings')\n",
    "plt.xlabel('Rating')\n",
    "plt.ylabel('Frequency')\n",
    "plt.grid(True)\n",
    "plt.show()"
   ]
  },
  {
   "cell_type": "code",
   "execution_count": null,
   "metadata": {},
   "outputs": [],
   "source": []
  },
  {
   "cell_type": "code",
   "execution_count": null,
   "metadata": {},
   "outputs": [],
   "source": []
  },
  {
   "cell_type": "markdown",
   "metadata": {},
   "source": [
    "# Model and Benchmark\n",
    "Google Colab: https://colab.research.google.com/drive/1CsePfKM1cga11LTNyFHwijytIAEtzwBi#scrollTo=hCBXS6Fa7jHg"
   ]
  }
 ],
 "metadata": {
  "kernelspec": {
   "display_name": "Python 3",
   "language": "python",
   "name": "python3"
  },
  "language_info": {
   "codemirror_mode": {
    "name": "ipython",
    "version": 3
   },
   "file_extension": ".py",
   "mimetype": "text/x-python",
   "name": "python",
   "nbconvert_exporter": "python",
   "pygments_lexer": "ipython3",
   "version": "3.12.1"
  }
 },
 "nbformat": 4,
 "nbformat_minor": 2
}
